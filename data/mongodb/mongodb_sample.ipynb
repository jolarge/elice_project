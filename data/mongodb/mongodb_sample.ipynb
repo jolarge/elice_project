{
 "cells": [
  {
   "cell_type": "code",
   "execution_count": 1,
   "id": "6ddd84a8-1790-4ea9-9bc2-21819af783d4",
   "metadata": {},
   "outputs": [],
   "source": [
    "import pymongo"
   ]
  },
  {
   "cell_type": "code",
   "execution_count": 2,
   "id": "4dd162e5-1493-41a8-932e-626a9d801d17",
   "metadata": {},
   "outputs": [],
   "source": [
    "from pymongo import MongoClient"
   ]
  },
  {
   "cell_type": "code",
   "execution_count": 3,
   "id": "b59080b0-f95c-411f-b8c3-401295d0a4d4",
   "metadata": {},
   "outputs": [],
   "source": [
    "my_client = MongoClient('mongodb://localhost:27017/')"
   ]
  },
  {
   "cell_type": "code",
   "execution_count": 4,
   "id": "a6bfe1d6-5683-4f92-a795-bdd664c5411b",
   "metadata": {},
   "outputs": [
    {
     "name": "stdout",
     "output_type": "stream",
     "text": [
      "['admin', 'config', 'local', 'newsDB']\n"
     ]
    }
   ],
   "source": [
    "print(my_client.list_database_names())"
   ]
  },
  {
   "cell_type": "code",
   "execution_count": null,
   "id": "d6f4bb5d-9f53-43de-b67d-d257204f8125",
   "metadata": {},
   "outputs": [],
   "source": [
    "newsDB = my_client['newsDB']\n",
    "nosummary = newsDB['nosummary']\n",
    "sample = newsDB['sample']"
   ]
  },
  {
   "cell_type": "code",
   "execution_count": null,
   "id": "28badc0f-8f9b-4d8b-b16b-c9c11cfd5bc8",
   "metadata": {},
   "outputs": [],
   "source": [
    "import json\n",
    "with open('./smaple.json', 'r') as f:\n",
    "    json_data = json.load(f)\n",
    "sample.insert_many(json_data)"
   ]
  },
  {
   "cell_type": "code",
   "execution_count": 11,
   "id": "86ffce98-61cb-441a-981f-8c1f95e9bd29",
   "metadata": {},
   "outputs": [],
   "source": [
    "import pymongo\n",
    "from pymongo import MongoClient\n",
    "import json\n",
    "\n",
    "def mongo_data_insert_many(host, port, db_name, db_col, json_file_name):\n",
    "    client = MongoClient(host, port)\n",
    "    db = client[db_name]\n",
    "    col = db[db_col]\n",
    "    with open(json_file_name, 'r', encoding = 'utf-8') as f:\n",
    "        json_data = json.load(f)\n",
    "    col.insert_many(json_data)\n",
    "\n",
    "mongo_data_insert_many('mongodb://localhost', 27017, 'newsDB', 'sample', './sample.json')"
   ]
  },
  {
   "cell_type": "code",
   "execution_count": null,
   "id": "21c9a697-6ec3-4ba7-93c1-d84e7602de9c",
   "metadata": {},
   "outputs": [],
   "source": []
  }
 ],
 "metadata": {
  "kernelspec": {
   "display_name": "Python 3 (ipykernel)",
   "language": "python",
   "name": "python3"
  },
  "language_info": {
   "codemirror_mode": {
    "name": "ipython",
    "version": 3
   },
   "file_extension": ".py",
   "mimetype": "text/x-python",
   "name": "python",
   "nbconvert_exporter": "python",
   "pygments_lexer": "ipython3",
   "version": "3.7.11"
  }
 },
 "nbformat": 4,
 "nbformat_minor": 5
}
