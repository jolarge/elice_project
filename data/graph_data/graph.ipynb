{
 "cells": [
  {
   "cell_type": "code",
   "execution_count": 1,
   "id": "a3e55a8e-0848-46c5-96d7-a1c57890a7b8",
   "metadata": {},
   "outputs": [],
   "source": [
    "import pandas as pd\n",
    "from tqdm import tqdm"
   ]
  },
  {
   "cell_type": "code",
   "execution_count": 2,
   "id": "af928f14-390b-491b-8af4-b4f35d65a3e3",
   "metadata": {},
   "outputs": [],
   "source": [
    "import pymongo\n",
    "from pymongo import MongoClient"
   ]
  },
  {
   "cell_type": "code",
   "execution_count": 6,
   "id": "1fc25d61-5b9d-47a7-b084-014e64004a7a",
   "metadata": {},
   "outputs": [],
   "source": [
    "# my_client = MongoClient('mongodb://34.64.216.132:27017/', username=\"project2\", password=\"6DevkdZirJ\")\n",
    "# newsDB = my_client['newsDB']"
   ]
  },
  {
   "cell_type": "code",
   "execution_count": 4,
   "id": "3d4fbe1d-804f-4de8-a9f7-cd5a21bc0e21",
   "metadata": {},
   "outputs": [],
   "source": [
    "my_client = MongoClient('mongodb://localhost:27017/')\n",
    "newsDB = my_client['newsDB']"
   ]
  },
  {
   "cell_type": "code",
   "execution_count": 47,
   "id": "c062bc33-1c46-45ba-9463-ba0c496de781",
   "metadata": {},
   "outputs": [],
   "source": [
    "predict = newsDB['predict']\n",
    "graph = newsDB['graph']\n",
    "data = predict.find({'time':{'$regex':'2021.11.26.'}},{'_id':False})"
   ]
  },
  {
   "cell_type": "code",
   "execution_count": 48,
   "id": "559df79e-c4f6-4ac1-b86e-3d97d0b59eb6",
   "metadata": {},
   "outputs": [],
   "source": [
    "df = pd.DataFrame(data)"
   ]
  },
  {
   "cell_type": "code",
   "execution_count": 50,
   "id": "5e9e52ba-53b5-4f97-a75c-0179297127d3",
   "metadata": {},
   "outputs": [],
   "source": [
    "df.to_json('./data/predict3.json', orient='records', force_ascii=False)"
   ]
  },
  {
   "cell_type": "code",
   "execution_count": 43,
   "id": "8f6c6907-1460-49cd-a134-8c81671cd1e1",
   "metadata": {},
   "outputs": [
    {
     "data": {
      "text/plain": [
       "0        2021.11.30. 오후 11:57\n",
       "1        2021.11.30. 오후 11:59\n",
       "2        2021.11.30. 오후 11:58\n",
       "3        2021.11.30. 오후 11:55\n",
       "4        2021.11.30. 오후 11:55\n",
       "                 ...         \n",
       "75538    2021.12.02. 오전 12:01\n",
       "75539    2021.12.02. 오전 12:01\n",
       "75540    2021.12.02. 오전 12:00\n",
       "75541    2021.12.02. 오전 12:00\n",
       "75542    2021.12.02. 오전 12:00\n",
       "Name: time, Length: 59977, dtype: object"
      ]
     },
     "execution_count": 43,
     "metadata": {},
     "output_type": "execute_result"
    }
   ],
   "source": [
    "# df[(df['time'] > '2021.11.30') | (df['time'] < '2021.11.29')]['time']"
   ]
  },
  {
   "cell_type": "code",
   "execution_count": 46,
   "id": "ddfd7365-7fa5-4a04-9b40-010c2ca8e057",
   "metadata": {},
   "outputs": [
    {
     "data": {
      "text/html": [
       "<div>\n",
       "<style scoped>\n",
       "    .dataframe tbody tr th:only-of-type {\n",
       "        vertical-align: middle;\n",
       "    }\n",
       "\n",
       "    .dataframe tbody tr th {\n",
       "        vertical-align: top;\n",
       "    }\n",
       "\n",
       "    .dataframe thead th {\n",
       "        text-align: right;\n",
       "    }\n",
       "</style>\n",
       "<table border=\"1\" class=\"dataframe\">\n",
       "  <thead>\n",
       "    <tr style=\"text-align: right;\">\n",
       "      <th></th>\n",
       "      <th>time</th>\n",
       "      <th>category</th>\n",
       "      <th>text_headline</th>\n",
       "      <th>text_company</th>\n",
       "      <th>context_url</th>\n",
       "      <th>label</th>\n",
       "    </tr>\n",
       "  </thead>\n",
       "  <tbody>\n",
       "    <tr>\n",
       "      <th>0</th>\n",
       "      <td>2021.11.30. 오후 11:57</td>\n",
       "      <td>정치</td>\n",
       "      <td>李 국토보유세 긍정응답 35.6%…尹 종부세 개편은 53.9%</td>\n",
       "      <td>뉴스1</td>\n",
       "      <td>https://news.naver.com/main/read.naver?mode=LS...</td>\n",
       "      <td>[0.0005652475, 0.00048977, 0.9989450574]</td>\n",
       "    </tr>\n",
       "    <tr>\n",
       "      <th>1</th>\n",
       "      <td>2021.11.30. 오후 11:59</td>\n",
       "      <td>생활/문화</td>\n",
       "      <td>코로나 신규확진 30일 오후 9시까지 3857명 확진 종합</td>\n",
       "      <td>스포츠경향</td>\n",
       "      <td>https://news.naver.com/main/read.naver?mode=LS...</td>\n",
       "      <td>[0.99954319, 0.0002271744, 0.000229647]</td>\n",
       "    </tr>\n",
       "    <tr>\n",
       "      <th>2</th>\n",
       "      <td>2021.11.30. 오후 11:58</td>\n",
       "      <td>사회</td>\n",
       "      <td>비 20mm에 개통 석 달된 서부간선지하도로 침수…종일 통제</td>\n",
       "      <td>KBS</td>\n",
       "      <td>https://news.naver.com/main/read.naver?mode=LS...</td>\n",
       "      <td>[0.9976773858, 0.0014411781, 0.0008813557]</td>\n",
       "    </tr>\n",
       "    <tr>\n",
       "      <th>3</th>\n",
       "      <td>2021.11.30. 오후 11:55</td>\n",
       "      <td>경제</td>\n",
       "      <td>강원도 내 공항 운항 노선 확대 추진</td>\n",
       "      <td>KBS</td>\n",
       "      <td>https://news.naver.com/main/read.naver?mode=LS...</td>\n",
       "      <td>[9.3556e-05, 0.0001029169, 0.9998036027]</td>\n",
       "    </tr>\n",
       "    <tr>\n",
       "      <th>4</th>\n",
       "      <td>2021.11.30. 오후 11:55</td>\n",
       "      <td>정치</td>\n",
       "      <td>민주당 강원도당 강원 대전환 선거대책위원회 구성</td>\n",
       "      <td>KBS</td>\n",
       "      <td>https://news.naver.com/main/read.naver?mode=LS...</td>\n",
       "      <td>[0.0001547905, 3.06543e-05, 0.99981457]</td>\n",
       "    </tr>\n",
       "    <tr>\n",
       "      <th>...</th>\n",
       "      <td>...</td>\n",
       "      <td>...</td>\n",
       "      <td>...</td>\n",
       "      <td>...</td>\n",
       "      <td>...</td>\n",
       "      <td>...</td>\n",
       "    </tr>\n",
       "    <tr>\n",
       "      <th>75538</th>\n",
       "      <td>2021.12.02. 오전 12:01</td>\n",
       "      <td>사회</td>\n",
       "      <td>학교 비정규직 임금인상 등 요구 오늘 하루 2차 파업</td>\n",
       "      <td>KBS</td>\n",
       "      <td>https://news.naver.com/main/read.naver?mode=LS...</td>\n",
       "      <td>[0.0001186241, 3.95043e-05, 0.9998418093]</td>\n",
       "    </tr>\n",
       "    <tr>\n",
       "      <th>75539</th>\n",
       "      <td>2021.12.02. 오전 12:01</td>\n",
       "      <td>사회</td>\n",
       "      <td>침례 안 받고 병역거부한 여호와의증인  2심서 무죄</td>\n",
       "      <td>더팩트</td>\n",
       "      <td>https://news.naver.com/main/read.naver?mode=LS...</td>\n",
       "      <td>[0.003246645, 0.0021812851, 0.994572103]</td>\n",
       "    </tr>\n",
       "    <tr>\n",
       "      <th>75540</th>\n",
       "      <td>2021.12.02. 오전 12:00</td>\n",
       "      <td>사회</td>\n",
       "      <td>일찌감치 예견된 기각…50억 클럽 첫 영장 곽상도 구속 실패</td>\n",
       "      <td>뉴스1</td>\n",
       "      <td>https://news.naver.com/main/read.naver?mode=LS...</td>\n",
       "      <td>[0.0001010381, 0.9998697042, 2.92132e-05]</td>\n",
       "    </tr>\n",
       "    <tr>\n",
       "      <th>75541</th>\n",
       "      <td>2021.12.02. 오전 12:00</td>\n",
       "      <td>사회</td>\n",
       "      <td>알림뉴시스 콘텐츠 저작권 고지</td>\n",
       "      <td>뉴시스</td>\n",
       "      <td>https://news.naver.com/main/read.naver?mode=LS...</td>\n",
       "      <td>[0.9994095564, 0.0003640866, 0.0002264087]</td>\n",
       "    </tr>\n",
       "    <tr>\n",
       "      <th>75542</th>\n",
       "      <td>2021.12.02. 오전 12:00</td>\n",
       "      <td>사회</td>\n",
       "      <td>녹유 오늘의 운세 77년생 높아진 위상 행동거지에 조심해요</td>\n",
       "      <td>뉴시스</td>\n",
       "      <td>https://news.naver.com/main/read.naver?mode=LS...</td>\n",
       "      <td>[0.0008975968, 0.998898983, 0.0002033576]</td>\n",
       "    </tr>\n",
       "  </tbody>\n",
       "</table>\n",
       "<p>75543 rows × 6 columns</p>\n",
       "</div>"
      ],
      "text/plain": [
       "                       time category                       text_headline  \\\n",
       "0      2021.11.30. 오후 11:57       정치  李 국토보유세 긍정응답 35.6%…尹 종부세 개편은 53.9%   \n",
       "1      2021.11.30. 오후 11:59    생활/문화    코로나 신규확진 30일 오후 9시까지 3857명 확진 종합   \n",
       "2      2021.11.30. 오후 11:58       사회   비 20mm에 개통 석 달된 서부간선지하도로 침수…종일 통제   \n",
       "3      2021.11.30. 오후 11:55       경제                강원도 내 공항 운항 노선 확대 추진   \n",
       "4      2021.11.30. 오후 11:55       정치          민주당 강원도당 강원 대전환 선거대책위원회 구성   \n",
       "...                     ...      ...                                 ...   \n",
       "75538  2021.12.02. 오전 12:01       사회       학교 비정규직 임금인상 등 요구 오늘 하루 2차 파업   \n",
       "75539  2021.12.02. 오전 12:01       사회        침례 안 받고 병역거부한 여호와의증인  2심서 무죄   \n",
       "75540  2021.12.02. 오전 12:00       사회   일찌감치 예견된 기각…50억 클럽 첫 영장 곽상도 구속 실패   \n",
       "75541  2021.12.02. 오전 12:00       사회                    알림뉴시스 콘텐츠 저작권 고지   \n",
       "75542  2021.12.02. 오전 12:00       사회    녹유 오늘의 운세 77년생 높아진 위상 행동거지에 조심해요   \n",
       "\n",
       "      text_company                                        context_url  \\\n",
       "0              뉴스1  https://news.naver.com/main/read.naver?mode=LS...   \n",
       "1            스포츠경향  https://news.naver.com/main/read.naver?mode=LS...   \n",
       "2              KBS  https://news.naver.com/main/read.naver?mode=LS...   \n",
       "3              KBS  https://news.naver.com/main/read.naver?mode=LS...   \n",
       "4              KBS  https://news.naver.com/main/read.naver?mode=LS...   \n",
       "...            ...                                                ...   \n",
       "75538          KBS  https://news.naver.com/main/read.naver?mode=LS...   \n",
       "75539          더팩트  https://news.naver.com/main/read.naver?mode=LS...   \n",
       "75540          뉴스1  https://news.naver.com/main/read.naver?mode=LS...   \n",
       "75541          뉴시스  https://news.naver.com/main/read.naver?mode=LS...   \n",
       "75542          뉴시스  https://news.naver.com/main/read.naver?mode=LS...   \n",
       "\n",
       "                                            label  \n",
       "0        [0.0005652475, 0.00048977, 0.9989450574]  \n",
       "1         [0.99954319, 0.0002271744, 0.000229647]  \n",
       "2      [0.9976773858, 0.0014411781, 0.0008813557]  \n",
       "3        [9.3556e-05, 0.0001029169, 0.9998036027]  \n",
       "4         [0.0001547905, 3.06543e-05, 0.99981457]  \n",
       "...                                           ...  \n",
       "75538   [0.0001186241, 3.95043e-05, 0.9998418093]  \n",
       "75539    [0.003246645, 0.0021812851, 0.994572103]  \n",
       "75540   [0.0001010381, 0.9998697042, 2.92132e-05]  \n",
       "75541  [0.9994095564, 0.0003640866, 0.0002264087]  \n",
       "75542   [0.0008975968, 0.998898983, 0.0002033576]  \n",
       "\n",
       "[75543 rows x 6 columns]"
      ]
     },
     "execution_count": 46,
     "metadata": {},
     "output_type": "execute_result"
    }
   ],
   "source": [
    "df"
   ]
  },
  {
   "cell_type": "code",
   "execution_count": 45,
   "id": "f4dd8565-6e73-49cd-8edd-fd4c2d64af21",
   "metadata": {},
   "outputs": [],
   "source": [
    "df.to_json('./data/predict2.json', orient='records', force_ascii=False)"
   ]
  },
  {
   "cell_type": "code",
   "execution_count": 26,
   "id": "33b9257c-a26d-4b38-ac4d-4ae9ded6018f",
   "metadata": {},
   "outputs": [],
   "source": [
    "import calendar"
   ]
  },
  {
   "cell_type": "code",
   "execution_count": 29,
   "id": "ef97e369-5e20-417c-b7ca-5aa2cea70370",
   "metadata": {},
   "outputs": [
    {
     "data": {
      "text/plain": [
       "(2022, 11, 30)"
      ]
     },
     "execution_count": 29,
     "metadata": {},
     "output_type": "execute_result"
    }
   ],
   "source": [
    "make_yesterday(2022,12,1)"
   ]
  },
  {
   "cell_type": "code",
   "execution_count": 1,
   "id": "0c34c418-18af-4863-84e4-611de4d10181",
   "metadata": {},
   "outputs": [],
   "source": [
    "import os"
   ]
  },
  {
   "cell_type": "code",
   "execution_count": 3,
   "id": "32d14aa7-3ed9-4767-8e22-ed35fadbabeb",
   "metadata": {},
   "outputs": [
    {
     "data": {
      "text/plain": [
       "'C:\\\\dev\\\\StockPrediction\\\\BERT\\\\graph_data'"
      ]
     },
     "execution_count": 3,
     "metadata": {},
     "output_type": "execute_result"
    }
   ],
   "source": []
  },
  {
   "cell_type": "code",
   "execution_count": 22,
   "id": "765836ac-76dc-4d21-8999-472ab01e4725",
   "metadata": {},
   "outputs": [],
   "source": [
    "def make_yesterday(year, month, day):\n",
    "    if day == 1:\n",
    "        if month == 1:\n",
    "            month = 12;\n",
    "            year -= 1;\n",
    "            day = calendar.monthrange(year, month)[1]\n",
    "        else:\n",
    "            month -= 1\n",
    "            day = calendar.monthrange(year, month)[1]\n",
    "    else:\n",
    "        day -= 1\n",
    "    return year, month, day"
   ]
  },
  {
   "cell_type": "code",
   "execution_count": 15,
   "id": "1b1f884d-1d4b-4f85-8b9c-da571f54e2b2",
   "metadata": {},
   "outputs": [],
   "source": [
    "import pymongo\n",
    "from pymongo import MongoClient\n",
    "\n",
    "def mongo_connect(host, port, db_name, db_col, username, password):\n",
    "    client = MongoClient(host, port, username = username, password = password)\n",
    "    db = client[db_name]\n",
    "    col = db[db_col]\n",
    "    return col\n",
    "\n",
    "col = mongo_connect('mongodb://localhost', 27017, 'newsDB', 'predict', username = \"root\", password = \"0000\")"
   ]
  },
  {
   "cell_type": "code",
   "execution_count": null,
   "id": "fce677fe-1bfd-48f2-bbb8-eabc83344997",
   "metadata": {},
   "outputs": [],
   "source": [
    "# my_client = MongoClient('mongodb://34.64.216.132:27017/')\n",
    "# newsDB = my_client['newsDB']\n",
    "# predict = newsDB['predict']\n",
    "# graph = newsDB['graph']\n",
    "# query = {\"time\":{\"$lt\":'2021.11.26'}}\n",
    "# data = predict.find(query,{'_id':False})"
   ]
  },
  {
   "cell_type": "code",
   "execution_count": 28,
   "id": "04fdec39-6268-413a-8bc2-7e0fd0cfec25",
   "metadata": {},
   "outputs": [],
   "source": [
    "news = pd.DataFrame(predict.find({}))"
   ]
  },
  {
   "cell_type": "code",
   "execution_count": 29,
   "id": "c1bcf0d6-9a06-4732-bcc2-d3841ccedc2a",
   "metadata": {},
   "outputs": [],
   "source": [
    "news = news[(news['time'] >= '2021.01.01')]"
   ]
  },
  {
   "cell_type": "code",
   "execution_count": 30,
   "id": "3a01eb03-02e7-4c79-b451-fc65aec1fbe0",
   "metadata": {},
   "outputs": [
    {
     "data": {
      "text/html": [
       "<div>\n",
       "<style scoped>\n",
       "    .dataframe tbody tr th:only-of-type {\n",
       "        vertical-align: middle;\n",
       "    }\n",
       "\n",
       "    .dataframe tbody tr th {\n",
       "        vertical-align: top;\n",
       "    }\n",
       "\n",
       "    .dataframe thead th {\n",
       "        text-align: right;\n",
       "    }\n",
       "</style>\n",
       "<table border=\"1\" class=\"dataframe\">\n",
       "  <thead>\n",
       "    <tr style=\"text-align: right;\">\n",
       "      <th></th>\n",
       "      <th>_id</th>\n",
       "      <th>time</th>\n",
       "      <th>category</th>\n",
       "      <th>text_headline</th>\n",
       "      <th>text_company</th>\n",
       "      <th>context_url</th>\n",
       "      <th>label</th>\n",
       "    </tr>\n",
       "  </thead>\n",
       "  <tbody>\n",
       "    <tr>\n",
       "      <th>0</th>\n",
       "      <td>61a818ab228fa83866717294</td>\n",
       "      <td>2021.11.26. 오후 11:57</td>\n",
       "      <td>생활/문화</td>\n",
       "      <td>겨울철 야영…“이것만은 조심해야”</td>\n",
       "      <td>KBS</td>\n",
       "      <td>https://news.naver.com/main/read.naver?mode=LS...</td>\n",
       "      <td>[0.9968061447, 0.0016639772, 0.0015299701]</td>\n",
       "    </tr>\n",
       "    <tr>\n",
       "      <th>1</th>\n",
       "      <td>61a818ab228fa83866717295</td>\n",
       "      <td>2021.11.26. 오후 11:58</td>\n",
       "      <td>정치</td>\n",
       "      <td>김장 봉사 간 김혜경... 봉사자들 뒤늦게 알아보고 사진 요청도</td>\n",
       "      <td>조선일보</td>\n",
       "      <td>https://news.naver.com/main/read.naver?mode=LS...</td>\n",
       "      <td>[0.0039006677, 0.9940382242, 0.0020611598]</td>\n",
       "    </tr>\n",
       "    <tr>\n",
       "      <th>2</th>\n",
       "      <td>61a818ab228fa83866717296</td>\n",
       "      <td>2021.11.26. 오후 11:58</td>\n",
       "      <td>사회</td>\n",
       "      <td>‘정인이 사건’ 양모 항소심서 징역 35년으로 감형</td>\n",
       "      <td>KBS</td>\n",
       "      <td>https://news.naver.com/main/read.naver?mode=LS...</td>\n",
       "      <td>[0.0012890873, 0.998526454, 0.0001843954]</td>\n",
       "    </tr>\n",
       "    <tr>\n",
       "      <th>3</th>\n",
       "      <td>61a818ab228fa83866717297</td>\n",
       "      <td>2021.11.26. 오후 11:57</td>\n",
       "      <td>경제</td>\n",
       "      <td>강원관광재단 설립 1년 동안 관광객 8만 명 유치</td>\n",
       "      <td>KBS</td>\n",
       "      <td>https://news.naver.com/main/read.naver?mode=LS...</td>\n",
       "      <td>[0.0002742379, 0.9995422363, 0.000183523]</td>\n",
       "    </tr>\n",
       "    <tr>\n",
       "      <th>4</th>\n",
       "      <td>61a818ab228fa83866717298</td>\n",
       "      <td>2021.11.26. 오후 11:57</td>\n",
       "      <td>생활/문화</td>\n",
       "      <td>강원 영동·산간지역 건조특보…주말부터 강추위</td>\n",
       "      <td>KBS</td>\n",
       "      <td>https://news.naver.com/main/read.naver?mode=LS...</td>\n",
       "      <td>[0.0013803714, 3.26497e-05, 0.9985870123]</td>\n",
       "    </tr>\n",
       "    <tr>\n",
       "      <th>...</th>\n",
       "      <td>...</td>\n",
       "      <td>...</td>\n",
       "      <td>...</td>\n",
       "      <td>...</td>\n",
       "      <td>...</td>\n",
       "      <td>...</td>\n",
       "      <td>...</td>\n",
       "    </tr>\n",
       "    <tr>\n",
       "      <th>38082</th>\n",
       "      <td>61a818ab228fa83866720756</td>\n",
       "      <td>2021.11.29. 오전 12:02</td>\n",
       "      <td>사회</td>\n",
       "      <td>두개골 함몰되도록 폭행하고도 “안 때렸다” 발뺌한 동료들</td>\n",
       "      <td>국민일보</td>\n",
       "      <td>https://news.naver.com/main/read.naver?mode=LS...</td>\n",
       "      <td>[0.0004447727, 4.84126e-05, 0.9995068312]</td>\n",
       "    </tr>\n",
       "    <tr>\n",
       "      <th>38083</th>\n",
       "      <td>61a818ab228fa83866720757</td>\n",
       "      <td>2021.11.29. 오전 12:01</td>\n",
       "      <td>사회</td>\n",
       "      <td>정인양 학대 부실대응 아동보호전문기관…형사처벌 가능성은</td>\n",
       "      <td>더팩트</td>\n",
       "      <td>https://news.naver.com/main/read.naver?mode=LS...</td>\n",
       "      <td>[0.1227447093, 0.0006521258, 0.8766031861]</td>\n",
       "    </tr>\n",
       "    <tr>\n",
       "      <th>38084</th>\n",
       "      <td>61a818ab228fa83866720758</td>\n",
       "      <td>2021.11.29. 오전 12:01</td>\n",
       "      <td>사회</td>\n",
       "      <td>어젯밤 9시까지 2776명 확진...오늘 3천 명대 중반</td>\n",
       "      <td>YTN</td>\n",
       "      <td>https://news.naver.com/main/read.naver?mode=LS...</td>\n",
       "      <td>[0.9993247986, 0.0005526619, 0.0001226205]</td>\n",
       "    </tr>\n",
       "    <tr>\n",
       "      <th>38085</th>\n",
       "      <td>61a818ab228fa83866720759</td>\n",
       "      <td>2021.11.29. 오전 12:00</td>\n",
       "      <td>사회</td>\n",
       "      <td>알림뉴시스 콘텐츠 저작권 고지</td>\n",
       "      <td>뉴시스</td>\n",
       "      <td>https://news.naver.com/main/read.naver?mode=LS...</td>\n",
       "      <td>[0.9994095564, 0.0003640856, 0.0002264087]</td>\n",
       "    </tr>\n",
       "    <tr>\n",
       "      <th>38086</th>\n",
       "      <td>61a818ab228fa8386672075a</td>\n",
       "      <td>2021.11.29. 오전 12:00</td>\n",
       "      <td>사회</td>\n",
       "      <td>녹유 오늘의 운세 50년생 뿌리고 거두는 즐거움을 알아요</td>\n",
       "      <td>뉴시스</td>\n",
       "      <td>https://news.naver.com/main/read.naver?mode=LS...</td>\n",
       "      <td>[0.0045658448, 0.0007340864, 0.9947000742]</td>\n",
       "    </tr>\n",
       "  </tbody>\n",
       "</table>\n",
       "<p>38087 rows × 7 columns</p>\n",
       "</div>"
      ],
      "text/plain": [
       "                            _id                  time category  \\\n",
       "0      61a818ab228fa83866717294  2021.11.26. 오후 11:57    생활/문화   \n",
       "1      61a818ab228fa83866717295  2021.11.26. 오후 11:58       정치   \n",
       "2      61a818ab228fa83866717296  2021.11.26. 오후 11:58       사회   \n",
       "3      61a818ab228fa83866717297  2021.11.26. 오후 11:57       경제   \n",
       "4      61a818ab228fa83866717298  2021.11.26. 오후 11:57    생활/문화   \n",
       "...                         ...                   ...      ...   \n",
       "38082  61a818ab228fa83866720756  2021.11.29. 오전 12:02       사회   \n",
       "38083  61a818ab228fa83866720757  2021.11.29. 오전 12:01       사회   \n",
       "38084  61a818ab228fa83866720758  2021.11.29. 오전 12:01       사회   \n",
       "38085  61a818ab228fa83866720759  2021.11.29. 오전 12:00       사회   \n",
       "38086  61a818ab228fa8386672075a  2021.11.29. 오전 12:00       사회   \n",
       "\n",
       "                             text_headline text_company  \\\n",
       "0                       겨울철 야영…“이것만은 조심해야”          KBS   \n",
       "1      김장 봉사 간 김혜경... 봉사자들 뒤늦게 알아보고 사진 요청도         조선일보   \n",
       "2             ‘정인이 사건’ 양모 항소심서 징역 35년으로 감형          KBS   \n",
       "3              강원관광재단 설립 1년 동안 관광객 8만 명 유치          KBS   \n",
       "4                 강원 영동·산간지역 건조특보…주말부터 강추위          KBS   \n",
       "...                                    ...          ...   \n",
       "38082      두개골 함몰되도록 폭행하고도 “안 때렸다” 발뺌한 동료들         국민일보   \n",
       "38083       정인양 학대 부실대응 아동보호전문기관…형사처벌 가능성은          더팩트   \n",
       "38084      어젯밤 9시까지 2776명 확진...오늘 3천 명대 중반          YTN   \n",
       "38085                     알림뉴시스 콘텐츠 저작권 고지          뉴시스   \n",
       "38086      녹유 오늘의 운세 50년생 뿌리고 거두는 즐거움을 알아요          뉴시스   \n",
       "\n",
       "                                             context_url  \\\n",
       "0      https://news.naver.com/main/read.naver?mode=LS...   \n",
       "1      https://news.naver.com/main/read.naver?mode=LS...   \n",
       "2      https://news.naver.com/main/read.naver?mode=LS...   \n",
       "3      https://news.naver.com/main/read.naver?mode=LS...   \n",
       "4      https://news.naver.com/main/read.naver?mode=LS...   \n",
       "...                                                  ...   \n",
       "38082  https://news.naver.com/main/read.naver?mode=LS...   \n",
       "38083  https://news.naver.com/main/read.naver?mode=LS...   \n",
       "38084  https://news.naver.com/main/read.naver?mode=LS...   \n",
       "38085  https://news.naver.com/main/read.naver?mode=LS...   \n",
       "38086  https://news.naver.com/main/read.naver?mode=LS...   \n",
       "\n",
       "                                            label  \n",
       "0      [0.9968061447, 0.0016639772, 0.0015299701]  \n",
       "1      [0.0039006677, 0.9940382242, 0.0020611598]  \n",
       "2       [0.0012890873, 0.998526454, 0.0001843954]  \n",
       "3       [0.0002742379, 0.9995422363, 0.000183523]  \n",
       "4       [0.0013803714, 3.26497e-05, 0.9985870123]  \n",
       "...                                           ...  \n",
       "38082   [0.0004447727, 4.84126e-05, 0.9995068312]  \n",
       "38083  [0.1227447093, 0.0006521258, 0.8766031861]  \n",
       "38084  [0.9993247986, 0.0005526619, 0.0001226205]  \n",
       "38085  [0.9994095564, 0.0003640856, 0.0002264087]  \n",
       "38086  [0.0045658448, 0.0007340864, 0.9947000742]  \n",
       "\n",
       "[38087 rows x 7 columns]"
      ]
     },
     "execution_count": 30,
     "metadata": {},
     "output_type": "execute_result"
    }
   ],
   "source": [
    "news"
   ]
  },
  {
   "cell_type": "code",
   "execution_count": 44,
   "id": "550c7648-6472-445d-88e3-1a51d063b243",
   "metadata": {},
   "outputs": [
    {
     "name": "stderr",
     "output_type": "stream",
     "text": [
      "100%|█████████████████████████████████████████████████████████████████████| 3429810/3429810 [01:15<00:00, 45328.00it/s]\n"
     ]
    }
   ],
   "source": [
    "# time = news['time'].map(lambda x : x.split()[0][:-1])\n",
    "# # title = news['text_headline'].map(lambda x : re.sub('[-=+,#/\\?:^$.@*\\\"※~&%ㆍ!』\\\\‘|\\(\\)\\[\\]\\<\\>`\\'…\\\"\\“》’·]', ' ', x))\n",
    "# labels = list(news['label'])\n",
    "# category = news['category']\n",
    "\n",
    "# u_time = list(time.unique())\n",
    "\n",
    "# u_category = list(category.unique())\n",
    "\n",
    "# item = [[0 for i in range(len(u_category))]  for i in range(len(u_time))]\n",
    "# # item_n = [[0 for i in range(len(u_category))]  for i in range(len(u_time))]\n",
    "# # item_m = [[0 for i in range(len(u_category))]  for i in range(len(u_time))]\n",
    "# total = [[0 for i in range(len(u_category))]  for i in range(len(u_time))]\n",
    "\n",
    "# # 긍정 +1 부정 -1 \n",
    "# for i in tqdm(range(len(time))):\n",
    "#     try:\n",
    "#         t = u_time.index(time[i])\n",
    "#         c = u_category.index(category[i])\n",
    "#         if labels[i].index(max(labels[i])) == 2:\n",
    "#             item[t][c] += max(labels[i])\n",
    "#         elif labels[i].index(max(labels[i])) == 1:\n",
    "#             item[t][c] -= max(labels[i])\n",
    "#         total[t][c] += max(labels[i])\n",
    "#     except:\n",
    "#         pass\n",
    "        \n",
    "# # print(item)"
   ]
  },
  {
   "cell_type": "code",
   "execution_count": 31,
   "id": "3328151d-b09a-4dc8-ab28-7572b32b3d4a",
   "metadata": {},
   "outputs": [
    {
     "name": "stderr",
     "output_type": "stream",
     "text": [
      "100%|████████████████████████████████████████████████████████████████████████| 38087/38087 [00:00<00:00, 147054.02it/s]\n"
     ]
    }
   ],
   "source": [
    "time = news['time'].map(lambda x : x.split()[0][:-1])\n",
    "# title = news['text_headline'].map(lambda x : re.sub('[-=+,#/\\?:^$.@*\\\"※~&%ㆍ!』\\\\‘|\\(\\)\\[\\]\\<\\>`\\'…\\\"\\“》’·]', ' ', x))\n",
    "labels = list(news['label'])\n",
    "category = news['category']\n",
    "\n",
    "u_time = list(time.unique())\n",
    "\n",
    "u_category = list(category.unique())\n",
    "\n",
    "item = [[0 for i in range(len(u_category))]  for i in range(len(u_time))]\n",
    "# item_n = [[0 for i in range(len(u_category))]  for i in range(len(u_time))]\n",
    "# item_m = [[0 for i in range(len(u_category))]  for i in range(len(u_time))]\n",
    "total = [[0 for i in range(len(u_category))]  for i in range(len(u_time))]\n",
    "\n",
    "# 긍정 +1 부정 -1 \n",
    "for i in tqdm(range(len(time))):\n",
    "    try:\n",
    "        t = u_time.index(time[i])\n",
    "        c = u_category.index(category[i])\n",
    "        item[t][c] += (labels[i][2] - labels[i][1])\n",
    "        total[t][c] += max(labels[i])\n",
    "    except:\n",
    "        pass\n",
    "        \n",
    "# print(item)"
   ]
  },
  {
   "cell_type": "code",
   "execution_count": 32,
   "id": "6d7a0baf-0bd6-4a22-be57-a1fc0bdf39a2",
   "metadata": {},
   "outputs": [],
   "source": [
    "item_1 = [[0 for i in range(len(u_category))]  for i in range(len(u_time))]\n",
    "for i in range(len(item)):\n",
    "    for j in range(len(item[i])):\n",
    "        try:\n",
    "            item_1[i][j] = (item[i][j] / total[i][j])\n",
    "        except:\n",
    "            item_1[i][j] = item[i][j]\n",
    "    "
   ]
  },
  {
   "cell_type": "code",
   "execution_count": 67,
   "id": "af6b6c77-97be-42b5-93d8-6a1bbec21e3c",
   "metadata": {},
   "outputs": [],
   "source": [
    "# item_2 = [[0 for i in range(len(u_category))]  for i in range(len(u_time))]\n",
    "# for i in range(len(item)):\n",
    "#     for j in range(len(item[i])):\n",
    "#         item_2[i][j] = item[i][j]"
   ]
  },
  {
   "cell_type": "code",
   "execution_count": null,
   "id": "af809074-1a0e-46a5-89f8-df7eea54674f",
   "metadata": {},
   "outputs": [],
   "source": [
    "# item_3 = [[0 for i in range(len(u_category))]  for i in range(len(u_time))]\n",
    "# for i in range(len(item)):\n",
    "#     for j in range(len(item[i])):\n",
    "#         item_1[i][j] = item[i][j]"
   ]
  },
  {
   "cell_type": "code",
   "execution_count": 33,
   "id": "75973283-eba9-464c-9b21-379ede800227",
   "metadata": {},
   "outputs": [],
   "source": [
    "result = []\n",
    "for i in range(len(item)):\n",
    "    for j in range(len(item[i])):\n",
    "        result.append({'날짜':u_time[i], '분류': u_category[j], 'label':item_1[i][j]})"
   ]
  },
  {
   "cell_type": "code",
   "execution_count": 42,
   "id": "5086acaf-b936-4685-81f2-27c9a8a216c9",
   "metadata": {},
   "outputs": [],
   "source": [
    "# from sklearn.preprocessing import StandardScaler\n",
    "# df = pd.DataFrame(item_1)\n",
    "# transformer = StandardScaler()\n",
    "# item_4 = transformer.fit_transform(df)"
   ]
  },
  {
   "cell_type": "code",
   "execution_count": 34,
   "id": "5524263a-48f5-4df8-9a3e-bc952604fb2a",
   "metadata": {},
   "outputs": [],
   "source": [
    "df = pd.DataFrame(item_1, columns = u_category, index = u_time)"
   ]
  },
  {
   "cell_type": "code",
   "execution_count": 35,
   "id": "8ee62965-7231-4952-a96f-87ed5080ec63",
   "metadata": {},
   "outputs": [],
   "source": [
    "df = df.reset_index().rename(columns={'index':'날짜'})"
   ]
  },
  {
   "cell_type": "code",
   "execution_count": 36,
   "id": "9befb39e-3a5e-4c0d-9df1-77b6178455c0",
   "metadata": {},
   "outputs": [],
   "source": [
    "df.to_json('./data/graph_data7.json', orient='records', force_ascii=False)"
   ]
  },
  {
   "cell_type": "code",
   "execution_count": 51,
   "id": "96aeaecf-5501-42b6-b529-c5ef42b83cf3",
   "metadata": {},
   "outputs": [],
   "source": [
    "# col = mongo_connect('mongodb://ec2-54-180-86-123.ap-northeast-2.compute.amazonaws.com', 27017, 'newsDB', 'graph', username = \"root\", password = \"0000\")"
   ]
  },
  {
   "cell_type": "code",
   "execution_count": 33,
   "id": "7cf250df-1f83-4cfc-adf4-a7368a14881e",
   "metadata": {},
   "outputs": [],
   "source": [
    "import json\n",
    "with open('./data/graph_data6.json', 'r', encoding='utf-8') as f:\n",
    "    json_data = json.load(f)"
   ]
  },
  {
   "cell_type": "code",
   "execution_count": 52,
   "id": "0132f7e7-3442-4c30-856e-834195f70698",
   "metadata": {},
   "outputs": [
    {
     "data": {
      "text/plain": [
       "<pymongo.results.InsertManyResult at 0x208b78d3648>"
      ]
     },
     "execution_count": 52,
     "metadata": {},
     "output_type": "execute_result"
    }
   ],
   "source": [
    "graph.insert_many(json_data)"
   ]
  }
 ],
 "metadata": {
  "kernelspec": {
   "display_name": "Python 3 (ipykernel)",
   "language": "python",
   "name": "python3"
  },
  "language_info": {
   "codemirror_mode": {
    "name": "ipython",
    "version": 3
   },
   "file_extension": ".py",
   "mimetype": "text/x-python",
   "name": "python",
   "nbconvert_exporter": "python",
   "pygments_lexer": "ipython3",
   "version": "3.7.11"
  }
 },
 "nbformat": 4,
 "nbformat_minor": 5
}
